{
 "cells": [
  {
   "cell_type": "markdown",
   "metadata": {},
   "source": [
    "### Pinecone"
   ]
  },
  {
   "cell_type": "code",
   "execution_count": 36,
   "metadata": {},
   "outputs": [],
   "source": [
    "# importing warnings\n",
    "import warnings\n",
    "warnings.filterwarnings('ignore')"
   ]
  },
  {
   "cell_type": "code",
   "execution_count": null,
   "metadata": {},
   "outputs": [],
   "source": [
    "# installing libraries through pip\n",
    "! pip install langchain\n",
    "! pip install pinecone-client==2.2.4\n",
    "! pip install pypdf\n",
    "! pip install sentence-transformers==2.2.2\n",
    "\n",
    "# pip install langchain pinecone-client==2.2.4 pypdf sentence-transformers==2.2.2"
   ]
  },
  {
   "cell_type": "code",
   "execution_count": 2,
   "metadata": {},
   "outputs": [],
   "source": [
    "# extract the text form pdfs file\n",
    "# for that we need to import libraries\n",
    "from langchain.document_loaders import PyPDFDirectoryLoader"
   ]
  },
  {
   "cell_type": "markdown",
   "metadata": {},
   "source": [
    "Step-01 : Loading the data"
   ]
  },
  {
   "cell_type": "code",
   "execution_count": 11,
   "metadata": {},
   "outputs": [],
   "source": [
    "# loading the data from pdfs and load the dataset\n",
    "loader = PyPDFDirectoryLoader(\"pdfs\")\n",
    "data = loader.load()\n",
    "# printing the dataset"
   ]
  },
  {
   "cell_type": "code",
   "execution_count": null,
   "metadata": {},
   "outputs": [],
   "source": [
    "print(data)"
   ]
  },
  {
   "cell_type": "code",
   "execution_count": 13,
   "metadata": {},
   "outputs": [],
   "source": [
    "# importing RecursiveCharacterTextSplitter from langchain.text_splitter\n",
    "from langchain.text_splitter import RecursiveCharacterTextSplitter\n"
   ]
  },
  {
   "cell_type": "markdown",
   "metadata": {},
   "source": [
    "Step-02 : Splitting and Chunking the dataset"
   ]
  },
  {
   "cell_type": "code",
   "execution_count": 25,
   "metadata": {},
   "outputs": [],
   "source": [
    "# calling RecursiveCharacterTextSplitter() class and creating an objecvt\n",
    "recursive_text_splitter = RecursiveCharacterTextSplitter(\n",
    "    separators=[\"\\n\\n\", \"\\n\", \" \", \"\"],\n",
    "    chunk_size=500, \n",
    "    chunk_overlap=20\n",
    "    )\n",
    "\n",
    "# calling split_documents() function by the object of the class RecursiveCharacterTextSplitter()\n",
    "text_chunks = recursive_text_splitter.split_documents(data)"
   ]
  },
  {
   "cell_type": "code",
   "execution_count": 26,
   "metadata": {},
   "outputs": [
    {
     "data": {
      "text/plain": [
       "29"
      ]
     },
     "execution_count": 26,
     "metadata": {},
     "output_type": "execute_result"
    }
   ],
   "source": [
    "# checking the length of the chunks\n",
    "len(text_chunks)"
   ]
  },
  {
   "cell_type": "code",
   "execution_count": null,
   "metadata": {},
   "outputs": [],
   "source": [
    "# checking attribute of the text_chunks\n",
    "text_chunks[0].page_content\n",
    "text_chunks[0].metadata\n",
    "text_chunks[0]"
   ]
  },
  {
   "cell_type": "markdown",
   "metadata": {},
   "source": [
    "Step-03 : Embeddings of the dataset"
   ]
  },
  {
   "cell_type": "code",
   "execution_count": 34,
   "metadata": {},
   "outputs": [],
   "source": [
    "# importing HuggingFaceEmbeddings\n",
    "from langchain.embeddings import HuggingFaceEmbeddings"
   ]
  },
  {
   "cell_type": "code",
   "execution_count": 37,
   "metadata": {},
   "outputs": [],
   "source": [
    "# calling HuggingFaceEmbeddings() class and creating an object of it.\n",
    "embeddings = HuggingFaceEmbeddings(model_name=\"sentence-transformers/all-MiniLM-L6-v2\")"
   ]
  },
  {
   "cell_type": "code",
   "execution_count": 43,
   "metadata": {},
   "outputs": [
    {
     "name": "stdout",
     "output_type": "stream",
     "text": [
      "The length of our text is : 384\n"
     ]
    }
   ],
   "source": [
    "# calling embed_query() function by the object of HuggingFaceEmbeddings() class\n",
    "# HuggingFaceEmbeddings() class has 384 dimensions\n",
    "query_result = embeddings.embed_query('This is Mehedi')\n",
    "query_result\n",
    "print('The length of our text is :',len(query_result))"
   ]
  },
  {
   "cell_type": "code",
   "execution_count": 71,
   "metadata": {},
   "outputs": [
    {
     "data": {
      "text/plain": [
       "True"
      ]
     },
     "execution_count": 71,
     "metadata": {},
     "output_type": "execute_result"
    }
   ],
   "source": [
    "# importing os for get the key from .env file\n",
    "import os\n",
    "from dotenv import load_dotenv\n",
    "load_dotenv()"
   ]
  },
  {
   "cell_type": "code",
   "execution_count": 73,
   "metadata": {},
   "outputs": [],
   "source": [
    "# read the keys from the .env file \n",
    "PINECONE_API_KEY=os.getenv(\"PINECONE_API_KEY\")\n",
    "PINECONE_API_ENV=os.getenv(\"PINECONE_API_ENV\")\n",
    "OPENAI_API_KEY=os.getenv(\"OPENAI_API_KEY\")"
   ]
  },
  {
   "cell_type": "markdown",
   "metadata": {},
   "source": [
    "Step-04 : creating vector database through creating index and API_KEY"
   ]
  },
  {
   "cell_type": "code",
   "execution_count": 49,
   "metadata": {},
   "outputs": [],
   "source": [
    "# importing the pinecone\n",
    "import pinecone\n",
    "\n",
    "# calling init() function through pinecone class\n",
    "pinecone.init(\n",
    "    # create pinecone api key from  https://app.pinecone.io\n",
    "    api_key=PINECONE_API_KEY,\n",
    "\n",
    "    # next to api key in console  \n",
    "    environment=PINECONE_API_ENV  \n",
    ")\n",
    "# create an index from the official website of the pinecone\n",
    "index_name = \"vectordb\" \n"
   ]
  },
  {
   "cell_type": "code",
   "execution_count": 50,
   "metadata": {},
   "outputs": [],
   "source": [
    "# importing Pinecone from langchain.vectorstores\n",
    "from langchain.vectorstores import Pinecone"
   ]
  },
  {
   "cell_type": "code",
   "execution_count": 51,
   "metadata": {},
   "outputs": [],
   "source": [
    "# calling from_texts() function through Pinecone class\n",
    "# we use list comprehension here we took out all the page_content from the text_chunks\n",
    "# which is created through RecursiveCharacterTextSplitter()\n",
    "# we are passing our embeddings that is created through HuggingFaceEmbeddings() class and we are passing \n",
    "# a model named as 'sentence-transformers/all-MiniLM-L6-v2'\n",
    "# we also passing index_name that is created from the pinecone official website.\n",
    "docsearch = Pinecone.from_texts([t.page_content for t in text_chunks], embeddings, index_name=index_name)"
   ]
  },
  {
   "cell_type": "code",
   "execution_count": null,
   "metadata": {},
   "outputs": [],
   "source": [
    "# If we already have an index, we can load it\n",
    "docsearch = Pinecone.from_existing_index(index_name, embeddings)\n",
    "docsearch"
   ]
  },
  {
   "cell_type": "markdown",
   "metadata": {},
   "source": [
    "Now our pinecone vector database is ready to use...lets do by similarity search"
   ]
  },
  {
   "cell_type": "code",
   "execution_count": 53,
   "metadata": {},
   "outputs": [],
   "source": [
    "# similarity search\n",
    "query_01 = \"What is yolo?\""
   ]
  },
  {
   "cell_type": "code",
   "execution_count": 65,
   "metadata": {},
   "outputs": [],
   "source": [
    "# calling the similarity_search() on top of the docssearch that \n",
    "# is created in pinecone as vector database\n",
    "# we are using k which is a parameter to the similarity_search() function, it means that we\n",
    "# are expecting 3 outputs like the similar type of results. we can assign k's value as much as we want\n",
    "docs_01 = docsearch.similarity_search(query_01, k=2)"
   ]
  },
  {
   "cell_type": "code",
   "execution_count": null,
   "metadata": {},
   "outputs": [],
   "source": [
    "# printing the results how we assign the value of k ; here k=2\n",
    "for i in docs_01:\n",
    "    print(i)"
   ]
  },
  {
   "cell_type": "markdown",
   "metadata": {},
   "source": [
    "## Through OpenAI : \n",
    "now we are going to use this vectordb through OpenAI using OPENAI_API_KEY"
   ]
  },
  {
   "cell_type": "code",
   "execution_count": null,
   "metadata": {},
   "outputs": [],
   "source": [
    "# installing openai\n",
    "! pip install openai"
   ]
  },
  {
   "cell_type": "code",
   "execution_count": 74,
   "metadata": {},
   "outputs": [],
   "source": [
    "# calling the key of openai\n",
    "os.environ[\"OPENAI_API_KEY\"] = OPENAI_API_KEY"
   ]
  },
  {
   "cell_type": "code",
   "execution_count": 75,
   "metadata": {},
   "outputs": [],
   "source": [
    "# importing OpenAI library from langchain.llms\n",
    "from langchain.llms import OpenAI"
   ]
  },
  {
   "cell_type": "code",
   "execution_count": 76,
   "metadata": {},
   "outputs": [],
   "source": [
    "# creating the object of the OpenAI() class\n",
    "llm=OpenAI()"
   ]
  },
  {
   "cell_type": "code",
   "execution_count": 78,
   "metadata": {},
   "outputs": [],
   "source": [
    "# importing RetrievalQA() class from langchain.chains\n",
    "from langchain.chains import RetrievalQA"
   ]
  },
  {
   "cell_type": "code",
   "execution_count": 83,
   "metadata": {},
   "outputs": [],
   "source": [
    "# calling the from_chain_type() function and passing few\n",
    "# parameters through RetrievalQA() class.\n",
    "# docsearch has component to access the vector database which created through pinecone\n",
    "# we calling as_retriever() function on top of the docsearch\n",
    "qa = RetrievalQA.from_chain_type(\n",
    "    llm=llm, \n",
    "    chain_type=\"stuff\", \n",
    "    retriever=docsearch.as_retriever()\n",
    "    )"
   ]
  },
  {
   "cell_type": "code",
   "execution_count": 87,
   "metadata": {},
   "outputs": [],
   "source": [
    "# our query means we want to search\n",
    "query_02 = \"What is yolo?\""
   ]
  },
  {
   "cell_type": "code",
   "execution_count": null,
   "metadata": {},
   "outputs": [],
   "source": [
    "qa.invoke(query_02)"
   ]
  }
 ],
 "metadata": {
  "kernelspec": {
   "display_name": "myenv",
   "language": "python",
   "name": "python3"
  },
  "language_info": {
   "codemirror_mode": {
    "name": "ipython",
    "version": 3
   },
   "file_extension": ".py",
   "mimetype": "text/x-python",
   "name": "python",
   "nbconvert_exporter": "python",
   "pygments_lexer": "ipython3",
   "version": "3.10.4"
  }
 },
 "nbformat": 4,
 "nbformat_minor": 2
}
